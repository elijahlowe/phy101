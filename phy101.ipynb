{
 "cells": [
  {
   "cell_type": "markdown",
   "metadata": {},
   "source": [
    "# Building a reference"
   ]
  },
  {
   "cell_type": "markdown",
   "metadata": {},
   "source": [
    "The first step is to develop your scientific question and to determine if a phylogenetic tree can actually answer that question. If indeed phylogenetics can help, then you must build a reference first for you analysis. Today we will be looking at two examples, one were you have to consider orthologous genes and another where geographical locations and time plays a part in answering your question. \n",
    "\n",
    "So, let's first start by identifying our sequences. In some cases you know exactly want you are looking for and in other cases you have no idea what your initial sequence is, either way, you start with a [BLAST](https://blast.ncbi.nlm.nih.gov/Blast.cgi) to identify similar sequences.\n",
    "\n",
    "Other reference:\n",
    "- [NCBI influenza DB](https://www.ncbi.nlm.nih.gov/genomes/FLU/Database/nph-select.cgi?go=database)\n",
    "- [NCBI virus](https://www.ncbi.nlm.nih.gov/labs/virus/vssi/#/)"
   ]
  },
  {
   "cell_type": "markdown",
   "metadata": {},
   "source": [
    "## 1. Use blast to identify the following sequences:\n",
    "\n",
    "NCBI is located here: [https://www.ncbi.nlm.nih.gov/](https://www.ncbi.nlm.nih.gov/). BLAST can be selected in the right-hand panel.\n",
    "\n",
    "![blast_ncbi](images/blast_ncbi.png)\n",
    "\n",
    "Alternatively, you can go directly to the BLAST page: [https://blast.ncbi.nlm.nih.gov/Blast.cgi](https://blast.ncbi.nlm.nih.gov/Blast.cgi)\n",
    "Based on the sequence you will select a different BLAST program, however this can be changed later if necessary.\n",
    "\n",
    "![blast_selection](images/blast_selection.png)\n",
    "\n",
    "Legend:\n",
    "1. This is were you enter you sequence. Alternatively, you can enter a NCBI access number\n",
    "2. You can also choose to search a particular database/organism. The default will search the entire BLAST none redundant (nr) database.\n",
    "3. Within each BLAST program, there are subprograms that determines how you BLAST search is preformed.\n",
    "4. Once you have adjusted the necessary parameters you are ready to submit you search. (This can be quick or take several minutes depending on the sequence and the server load.\n",
    "\n",
    "![blast_entry](images/blast_entry.png)\n",
    "\n",
    "Now take sequence 1 and 2, and identify them.\n",
    "\n",
    "Sequence 1:"
   ]
  },
  {
   "cell_type": "raw",
   "metadata": {},
   "source": [
    "VSPVSEDLVSLMSTMEEDAFASELPNVAAILSGVWILMIILISCVGNGAVLVTSLRKRRNLKALDLLTINLAVSDLTVCLIGYPLPAVSGFADRWMFGESGCIWYGFCGFFFPMNAMMTLVAIAVCRYLKLCKKNFDDTLLAKHMPKIIAAVWMYALVWTVPPLMGWSRYVPERFRTSCTVDWASRLPSDQAYIICIFIFCYLFPLMCLIGCYGAITKAIFAHRRMILQQHTTHFTHFWTEVRLIKSSF"
   ]
  },
  {
   "cell_type": "markdown",
   "metadata": {},
   "source": [
    "Sequence 2:"
   ]
  },
  {
   "cell_type": "raw",
   "metadata": {},
   "source": [
    "gttgttgatctgtgtgaatcagactgcgacagttcgagtttgaagcgaaagctagcaacagtatcaacaggttttattttggatttggaaacgagagtttctggtcatgaaaaacccaaaaaagaaatccggaggattccggattgtcaatatgctaaaacgcggagtagcccgtgtgagcccctttgggggcttgaagaggctgccagccggacttctgctgggtcatgggcccatcaggatggtcttggcgattctagcctttttgagattcacggcaatcaagccatcactgggtctcatcaatagatggggttcagtggggaaaaaagaggctatggaaacaataaagaagttcaagaaagatctggctgccatgctgagaataatcaatgctaggaaggagaagaagagacgaggcgcagatactagtgtcggaattgttggcctcctgctgaccacagctatggcagcggaggtcactagacgtgggagtgcatactatatgtacttggacagaaacgatgctggggaggccatatcttttccaaccacattggggatgaataagtgttatatacagatcatggatcttggacacatgtgtgatgccaccatgagctatgaatgccctatgctggatgagggggtggaaccagatgacgtcgattgttggtgcaacacgacgtcaacttgggttgtgtacggaacctgccatcacaaaaaaggtgaagcacggagatctagaagagctgtgacgctcccctcccattccaccaggaagctgcaaacgcggtcgcaaacctggttggaatcaagagaatacacaaagcacttgattagagtcgaaaattggatattcaggaaccctggcttcgcgttagcagcagctgccatcgcttggcttttgggaagctcaacgagccaaaaagtcatatacttggtcatgatactgctgattgccccggcatacagcatcaggtgcataggagtcagcaatagggactttgtggaaggtatgtcaggtgggacttgggttgatgttgtcttggaacatggaggttgtgtcaccgtaatggcacaggacaaaccgactgtcgacatagagctggttacaacaacagtcagcaacatggcggaggtaagatcctactgctatgaggcatcaatatcagacatggcttctgacagccgctgcccaacacaaggtgaagcctaccttgacaagcaatcagacactcaatatgtctgcaaaagaacgttagtggacagaggctggggaaatggatgtggactttttggcaaagggagcctggtgacatgcgctaagtttgcatgctccaagaaaatgaccgggaagagcatccagccagagaatctggagtaccggataatgctgtcagttcatggctcccagcacagtgggatgatcgttaatgacacaggacatgaaactgatgagaatagagcgaaagttgagataacgcccaattcaccgagagccgaagccaccctggggggttttggaagcctaggacttgattgtgaaccgaggacaggccttgacttttcagatttgtattacttgactatgaataacaagcactggttggttcacaaggagtggttccacgacattccattaccttggcacgctggggcagacaccggaactccacactggaacaacaaagaagcactggtagagttcaaggacgcacatgccaaaaggcaaactgtcgtggttctagggagtcaagaaggagcagttcacacggcccttgctggagctctggaggctgagatggatggtgcaaagggaaggctgtcctctggccacttgaaatgtcgcctgaaaatggataaacttagattgaagggcgtgtcatactccttgtgtactgcagcgttcacattcaccaagatcccggctgaaacactgcacgggacagtcacagtggaggtacagtacgcagggacagatggaccttgcaaggttccagctcagatggcggtggacatgcaaactctgaccccagttgggaggttgataaccgctaaccccgtaatcactgaaagcactgagaactctaagatgatgctggaacttgatccaccatttggggactcttacattgtcataggagtcggggagaagaagatcacccaccactggcacaggagtggcagcaccattggaaaagcatttgaagccactgtgagaggtgccaagagaatggcagtcttgggagacacagcctgggactttggatcagttggaggcgctctcaactcattgggcaagggcatccatcaaatttttggagcagctttcaaatcattgtttggaggaatgtcctggttctcacaaattctcattggaacgttgctgatgtggttgggtctgaacacaaagaatggatctatttcccttatgtgcttggccttagggggagtgttgatcttcttatccacagccgtctctgctgatgtggggtgctcggtggacttctcaaagaaggagacgagatgcggtacaggggtgttcgtctataacgacgttgaagcctggagggacaggtacaagtaccatcctgactccccccgtagattggcagcagcagtcaagcaagcctggga"
   ]
  },
  {
   "cell_type": "markdown",
   "metadata": {},
   "source": [
    "From here we would use our blast results to start building our reference file, which is a multi-fasta file. However, typically that is not enough and we would need to identify additional sequences from litaure or other databases. Luckily for us we had a hard working lab member that has already done all of the leg work for us. Both sequences have references files that can be found here:\n",
    "- [sequence 1](data/opsins.fasta)\n",
    "- [sequence 2](data/zika.fast)\n",
    "\n",
    "The reference file for sequence 1 were extracted from this [paper](https://bmcecolevol.biomedcentral.com/articles/10.1186/s12862-018-1276-0), while the file for sequence 2 was taken from NextStrain tutorial which can be found [here](https://docs.nextstrain.org/en/latest/tutorials/zika.html)."
   ]
  },
  {
   "cell_type": "markdown",
   "metadata": {},
   "source": [
    "## 2. Create Multiple Sequence Alignments using MAFFT\n",
    "\n",
    "Now that we have our reference files we need to identify the homologous regions across our sequencing. This process is now as Multiple Sequence Alignments (MSA). There are many tools available to complete this process, but today we will be using [MAFFT alignment server](https://mafft.cbrc.jp/alignment/server/). MAFFT has both an online server and a command-line interface. Today we will use the default parameters, but for more information on MAFFT's algorithms and paraments you can read [here](https://mafft.cbrc.jp/alignment/software/algorithms/algorithms.html), and for additional tips read [here](https://mafft.cbrc.jp/alignment/software/tips0.html)\n",
    "\n",
    "> &#x26a0;&#xfe0f; **One problem that often occurs is at this step, is the fact that the sequence names may become trucated and cause referencing issues. For instance, MAFFT cuts names off after 15 characters or the first space. You should be award of this and edit you fasta reference files accordingly.**\n",
    "\n",
    "\n",
    "![mafft](images/mafft.png)\n",
    "\n",
    "\n",
    "MAFFT produce texted based alignment with no color. Highly conserved bases are marked by **'*'**, followed by **':'**, and **'.'**. There are programs that can be used to visualize you MSA with color to better see the conservation, people typically use these were they want to identify conservation domains or trim their alignments. \n",
    "\n",
    "Highly conserved region             |  Gapped region\n",
    ":-------------------------:|:-------------------------:\n",
    "![](images/alignment_c.png)  |  ![](images/alignment_g.png)\n",
    "\n",
    "Prebaked alignment files:\n",
    "- [opsins](data/opsin.aln)\n",
    "- [zika](data/zika.aln)"
   ]
  },
  {
   "cell_type": "markdown",
   "metadata": {},
   "source": [
    "## 3. Reconstructing the tree using iQTree\n",
    "\n",
    "IQTREE like other tree inference software can be used on both DNA and proteins. Additionally, iqtree has a model selection module built-in if you don't know what substitution model is best for you tree inference. An indepth tutorial on iqtree can be found [here](http://www.iqtree.org/doc/Web-Server-Tutorial)\n",
    "\n",
    "![iqtree](images/iqtree.png)\n",
    "\n",
    "prebaked tree files:\n",
    "- [opsin](data/opsin.aln.tre)\n",
    "- [zika](data/zika.aln.tre)"
   ]
  },
  {
   "cell_type": "markdown",
   "metadata": {},
   "source": [
    "## 4. Tree visualization with Microreact\n",
    "\n",
    "We will use [Microreact](https://microreact.org/showcase) to generate our visualization today. \n",
    "\n",
    "\n",
    "Highlighted clades             |  geographical location + tree\n",
    ":-------------------------:|:-------------------------:\n",
    "![](images/opsins_full.png)  |  ![](images/zika.png)\n",
    "\n",
    "The only maditory file for Microreact is a comma/tab seperated value (csv/tsv) with the ID's of you sequences of interest. This file can have several opitional categories (e.g. lat, lon, color, date, country, etc). These categories help to add to the categorization of the tree or map. However, we want to visualize a tree, so we will have to compliment the csv file with a tree file ([nwk](https://en.wikipedia.org/wiki/Newick_format), tre). \n",
    "\n",
    "> The geolocation link has not worked for me, so instead I used [https://www.latlong.net/](https://www.latlong.net/) to generate my latitudes and longitudes.\n",
    "\n",
    "![micro](images/microreact.png)\n",
    "\n",
    "\n",
    "metadata  files:\n",
    "- [opsin](data/opsin_metatdata.csv)\n",
    "- [zika](data/metatdata.csv)"
   ]
  },
  {
   "cell_type": "code",
   "execution_count": null,
   "metadata": {},
   "outputs": [],
   "source": []
  }
 ],
 "metadata": {
  "kernelspec": {
   "display_name": "Python 3",
   "language": "python",
   "name": "python3"
  },
  "language_info": {
   "codemirror_mode": {
    "name": "ipython",
    "version": 3
   },
   "file_extension": ".py",
   "mimetype": "text/x-python",
   "name": "python",
   "nbconvert_exporter": "python",
   "pygments_lexer": "ipython3",
   "version": "3.7.6"
  }
 },
 "nbformat": 4,
 "nbformat_minor": 4
}
